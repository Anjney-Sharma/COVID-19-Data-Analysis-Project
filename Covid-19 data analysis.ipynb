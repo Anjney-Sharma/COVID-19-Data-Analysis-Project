{
 "cells": [
  {
   "cell_type": "code",
   "execution_count": 1,
   "id": "bc3d0eb0-cc2f-4f7d-a679-e08b0897fdee",
   "metadata": {},
   "outputs": [],
   "source": [
    "import numpy as np\n",
    "import pandas as pd\n",
    "import matplotlib.pyplot as plt\n",
    "import seaborn as sns"
   ]
  },
  {
   "cell_type": "code",
   "execution_count": 2,
   "id": "5fcdd625-74d0-4bb7-84b8-f384c781be9f",
   "metadata": {},
   "outputs": [],
   "source": [
    "df = pd.read_csv('country_vaccinations.csv')"
   ]
  },
  {
   "cell_type": "code",
   "execution_count": 3,
   "id": "150fcfc6-bce2-4eac-b0e9-3fcf43ae28dd",
   "metadata": {},
   "outputs": [
    {
     "data": {
      "text/html": [
       "<div>\n",
       "<style scoped>\n",
       "    .dataframe tbody tr th:only-of-type {\n",
       "        vertical-align: middle;\n",
       "    }\n",
       "\n",
       "    .dataframe tbody tr th {\n",
       "        vertical-align: top;\n",
       "    }\n",
       "\n",
       "    .dataframe thead th {\n",
       "        text-align: right;\n",
       "    }\n",
       "</style>\n",
       "<table border=\"1\" class=\"dataframe\">\n",
       "  <thead>\n",
       "    <tr style=\"text-align: right;\">\n",
       "      <th></th>\n",
       "      <th>country</th>\n",
       "      <th>iso_code</th>\n",
       "      <th>date</th>\n",
       "      <th>total_vaccinations</th>\n",
       "      <th>people_vaccinated</th>\n",
       "      <th>people_fully_vaccinated</th>\n",
       "      <th>daily_vaccinations_raw</th>\n",
       "      <th>daily_vaccinations</th>\n",
       "      <th>total_vaccinations_per_hundred</th>\n",
       "      <th>people_vaccinated_per_hundred</th>\n",
       "      <th>people_fully_vaccinated_per_hundred</th>\n",
       "      <th>daily_vaccinations_per_million</th>\n",
       "      <th>vaccines</th>\n",
       "      <th>source_name</th>\n",
       "      <th>source_website</th>\n",
       "    </tr>\n",
       "  </thead>\n",
       "  <tbody>\n",
       "    <tr>\n",
       "      <th>0</th>\n",
       "      <td>Afghanistan</td>\n",
       "      <td>AFG</td>\n",
       "      <td>22-02-2021</td>\n",
       "      <td>0.0</td>\n",
       "      <td>0.0</td>\n",
       "      <td>NaN</td>\n",
       "      <td>NaN</td>\n",
       "      <td>NaN</td>\n",
       "      <td>0.00</td>\n",
       "      <td>0.00</td>\n",
       "      <td>NaN</td>\n",
       "      <td>NaN</td>\n",
       "      <td>Johnson&amp;Johnson, Oxford/AstraZeneca, Pfizer/Bi...</td>\n",
       "      <td>World Health Organization</td>\n",
       "      <td>https://covid19.who.int/</td>\n",
       "    </tr>\n",
       "    <tr>\n",
       "      <th>1</th>\n",
       "      <td>Afghanistan</td>\n",
       "      <td>AFG</td>\n",
       "      <td>23-02-2021</td>\n",
       "      <td>NaN</td>\n",
       "      <td>NaN</td>\n",
       "      <td>NaN</td>\n",
       "      <td>NaN</td>\n",
       "      <td>1367.0</td>\n",
       "      <td>NaN</td>\n",
       "      <td>NaN</td>\n",
       "      <td>NaN</td>\n",
       "      <td>34.0</td>\n",
       "      <td>Johnson&amp;Johnson, Oxford/AstraZeneca, Pfizer/Bi...</td>\n",
       "      <td>World Health Organization</td>\n",
       "      <td>https://covid19.who.int/</td>\n",
       "    </tr>\n",
       "    <tr>\n",
       "      <th>2</th>\n",
       "      <td>Afghanistan</td>\n",
       "      <td>AFG</td>\n",
       "      <td>24-02-2021</td>\n",
       "      <td>NaN</td>\n",
       "      <td>NaN</td>\n",
       "      <td>NaN</td>\n",
       "      <td>NaN</td>\n",
       "      <td>1367.0</td>\n",
       "      <td>NaN</td>\n",
       "      <td>NaN</td>\n",
       "      <td>NaN</td>\n",
       "      <td>34.0</td>\n",
       "      <td>Johnson&amp;Johnson, Oxford/AstraZeneca, Pfizer/Bi...</td>\n",
       "      <td>World Health Organization</td>\n",
       "      <td>https://covid19.who.int/</td>\n",
       "    </tr>\n",
       "    <tr>\n",
       "      <th>3</th>\n",
       "      <td>Afghanistan</td>\n",
       "      <td>AFG</td>\n",
       "      <td>25-02-2021</td>\n",
       "      <td>NaN</td>\n",
       "      <td>NaN</td>\n",
       "      <td>NaN</td>\n",
       "      <td>NaN</td>\n",
       "      <td>1367.0</td>\n",
       "      <td>NaN</td>\n",
       "      <td>NaN</td>\n",
       "      <td>NaN</td>\n",
       "      <td>34.0</td>\n",
       "      <td>Johnson&amp;Johnson, Oxford/AstraZeneca, Pfizer/Bi...</td>\n",
       "      <td>World Health Organization</td>\n",
       "      <td>https://covid19.who.int/</td>\n",
       "    </tr>\n",
       "    <tr>\n",
       "      <th>4</th>\n",
       "      <td>Afghanistan</td>\n",
       "      <td>AFG</td>\n",
       "      <td>26-02-2021</td>\n",
       "      <td>NaN</td>\n",
       "      <td>NaN</td>\n",
       "      <td>NaN</td>\n",
       "      <td>NaN</td>\n",
       "      <td>1367.0</td>\n",
       "      <td>NaN</td>\n",
       "      <td>NaN</td>\n",
       "      <td>NaN</td>\n",
       "      <td>34.0</td>\n",
       "      <td>Johnson&amp;Johnson, Oxford/AstraZeneca, Pfizer/Bi...</td>\n",
       "      <td>World Health Organization</td>\n",
       "      <td>https://covid19.who.int/</td>\n",
       "    </tr>\n",
       "    <tr>\n",
       "      <th>5</th>\n",
       "      <td>Afghanistan</td>\n",
       "      <td>AFG</td>\n",
       "      <td>27-02-2021</td>\n",
       "      <td>NaN</td>\n",
       "      <td>NaN</td>\n",
       "      <td>NaN</td>\n",
       "      <td>NaN</td>\n",
       "      <td>1367.0</td>\n",
       "      <td>NaN</td>\n",
       "      <td>NaN</td>\n",
       "      <td>NaN</td>\n",
       "      <td>34.0</td>\n",
       "      <td>Johnson&amp;Johnson, Oxford/AstraZeneca, Pfizer/Bi...</td>\n",
       "      <td>World Health Organization</td>\n",
       "      <td>https://covid19.who.int/</td>\n",
       "    </tr>\n",
       "    <tr>\n",
       "      <th>6</th>\n",
       "      <td>Afghanistan</td>\n",
       "      <td>AFG</td>\n",
       "      <td>28-02-2021</td>\n",
       "      <td>8200.0</td>\n",
       "      <td>8200.0</td>\n",
       "      <td>NaN</td>\n",
       "      <td>NaN</td>\n",
       "      <td>1367.0</td>\n",
       "      <td>0.02</td>\n",
       "      <td>0.02</td>\n",
       "      <td>NaN</td>\n",
       "      <td>34.0</td>\n",
       "      <td>Johnson&amp;Johnson, Oxford/AstraZeneca, Pfizer/Bi...</td>\n",
       "      <td>World Health Organization</td>\n",
       "      <td>https://covid19.who.int/</td>\n",
       "    </tr>\n",
       "    <tr>\n",
       "      <th>7</th>\n",
       "      <td>Afghanistan</td>\n",
       "      <td>AFG</td>\n",
       "      <td>01-03-2021</td>\n",
       "      <td>NaN</td>\n",
       "      <td>NaN</td>\n",
       "      <td>NaN</td>\n",
       "      <td>NaN</td>\n",
       "      <td>1580.0</td>\n",
       "      <td>NaN</td>\n",
       "      <td>NaN</td>\n",
       "      <td>NaN</td>\n",
       "      <td>40.0</td>\n",
       "      <td>Johnson&amp;Johnson, Oxford/AstraZeneca, Pfizer/Bi...</td>\n",
       "      <td>World Health Organization</td>\n",
       "      <td>https://covid19.who.int/</td>\n",
       "    </tr>\n",
       "    <tr>\n",
       "      <th>8</th>\n",
       "      <td>Afghanistan</td>\n",
       "      <td>AFG</td>\n",
       "      <td>02-03-2021</td>\n",
       "      <td>NaN</td>\n",
       "      <td>NaN</td>\n",
       "      <td>NaN</td>\n",
       "      <td>NaN</td>\n",
       "      <td>1794.0</td>\n",
       "      <td>NaN</td>\n",
       "      <td>NaN</td>\n",
       "      <td>NaN</td>\n",
       "      <td>45.0</td>\n",
       "      <td>Johnson&amp;Johnson, Oxford/AstraZeneca, Pfizer/Bi...</td>\n",
       "      <td>World Health Organization</td>\n",
       "      <td>https://covid19.who.int/</td>\n",
       "    </tr>\n",
       "    <tr>\n",
       "      <th>9</th>\n",
       "      <td>Afghanistan</td>\n",
       "      <td>AFG</td>\n",
       "      <td>03-03-2021</td>\n",
       "      <td>NaN</td>\n",
       "      <td>NaN</td>\n",
       "      <td>NaN</td>\n",
       "      <td>NaN</td>\n",
       "      <td>2008.0</td>\n",
       "      <td>NaN</td>\n",
       "      <td>NaN</td>\n",
       "      <td>NaN</td>\n",
       "      <td>50.0</td>\n",
       "      <td>Johnson&amp;Johnson, Oxford/AstraZeneca, Pfizer/Bi...</td>\n",
       "      <td>World Health Organization</td>\n",
       "      <td>https://covid19.who.int/</td>\n",
       "    </tr>\n",
       "  </tbody>\n",
       "</table>\n",
       "</div>"
      ],
      "text/plain": [
       "       country iso_code        date  total_vaccinations  people_vaccinated  \\\n",
       "0  Afghanistan      AFG  22-02-2021                 0.0                0.0   \n",
       "1  Afghanistan      AFG  23-02-2021                 NaN                NaN   \n",
       "2  Afghanistan      AFG  24-02-2021                 NaN                NaN   \n",
       "3  Afghanistan      AFG  25-02-2021                 NaN                NaN   \n",
       "4  Afghanistan      AFG  26-02-2021                 NaN                NaN   \n",
       "5  Afghanistan      AFG  27-02-2021                 NaN                NaN   \n",
       "6  Afghanistan      AFG  28-02-2021              8200.0             8200.0   \n",
       "7  Afghanistan      AFG  01-03-2021                 NaN                NaN   \n",
       "8  Afghanistan      AFG  02-03-2021                 NaN                NaN   \n",
       "9  Afghanistan      AFG  03-03-2021                 NaN                NaN   \n",
       "\n",
       "   people_fully_vaccinated  daily_vaccinations_raw  daily_vaccinations  \\\n",
       "0                      NaN                     NaN                 NaN   \n",
       "1                      NaN                     NaN              1367.0   \n",
       "2                      NaN                     NaN              1367.0   \n",
       "3                      NaN                     NaN              1367.0   \n",
       "4                      NaN                     NaN              1367.0   \n",
       "5                      NaN                     NaN              1367.0   \n",
       "6                      NaN                     NaN              1367.0   \n",
       "7                      NaN                     NaN              1580.0   \n",
       "8                      NaN                     NaN              1794.0   \n",
       "9                      NaN                     NaN              2008.0   \n",
       "\n",
       "   total_vaccinations_per_hundred  people_vaccinated_per_hundred  \\\n",
       "0                            0.00                           0.00   \n",
       "1                             NaN                            NaN   \n",
       "2                             NaN                            NaN   \n",
       "3                             NaN                            NaN   \n",
       "4                             NaN                            NaN   \n",
       "5                             NaN                            NaN   \n",
       "6                            0.02                           0.02   \n",
       "7                             NaN                            NaN   \n",
       "8                             NaN                            NaN   \n",
       "9                             NaN                            NaN   \n",
       "\n",
       "   people_fully_vaccinated_per_hundred  daily_vaccinations_per_million  \\\n",
       "0                                  NaN                             NaN   \n",
       "1                                  NaN                            34.0   \n",
       "2                                  NaN                            34.0   \n",
       "3                                  NaN                            34.0   \n",
       "4                                  NaN                            34.0   \n",
       "5                                  NaN                            34.0   \n",
       "6                                  NaN                            34.0   \n",
       "7                                  NaN                            40.0   \n",
       "8                                  NaN                            45.0   \n",
       "9                                  NaN                            50.0   \n",
       "\n",
       "                                            vaccines  \\\n",
       "0  Johnson&Johnson, Oxford/AstraZeneca, Pfizer/Bi...   \n",
       "1  Johnson&Johnson, Oxford/AstraZeneca, Pfizer/Bi...   \n",
       "2  Johnson&Johnson, Oxford/AstraZeneca, Pfizer/Bi...   \n",
       "3  Johnson&Johnson, Oxford/AstraZeneca, Pfizer/Bi...   \n",
       "4  Johnson&Johnson, Oxford/AstraZeneca, Pfizer/Bi...   \n",
       "5  Johnson&Johnson, Oxford/AstraZeneca, Pfizer/Bi...   \n",
       "6  Johnson&Johnson, Oxford/AstraZeneca, Pfizer/Bi...   \n",
       "7  Johnson&Johnson, Oxford/AstraZeneca, Pfizer/Bi...   \n",
       "8  Johnson&Johnson, Oxford/AstraZeneca, Pfizer/Bi...   \n",
       "9  Johnson&Johnson, Oxford/AstraZeneca, Pfizer/Bi...   \n",
       "\n",
       "                 source_name            source_website  \n",
       "0  World Health Organization  https://covid19.who.int/  \n",
       "1  World Health Organization  https://covid19.who.int/  \n",
       "2  World Health Organization  https://covid19.who.int/  \n",
       "3  World Health Organization  https://covid19.who.int/  \n",
       "4  World Health Organization  https://covid19.who.int/  \n",
       "5  World Health Organization  https://covid19.who.int/  \n",
       "6  World Health Organization  https://covid19.who.int/  \n",
       "7  World Health Organization  https://covid19.who.int/  \n",
       "8  World Health Organization  https://covid19.who.int/  \n",
       "9  World Health Organization  https://covid19.who.int/  "
      ]
     },
     "execution_count": 3,
     "metadata": {},
     "output_type": "execute_result"
    }
   ],
   "source": [
    "df.head(10)"
   ]
  },
  {
   "cell_type": "code",
   "execution_count": 4,
   "id": "bcbeb966-739e-4172-99f8-3d6f3b194563",
   "metadata": {},
   "outputs": [
    {
     "data": {
      "text/html": [
       "<div>\n",
       "<style scoped>\n",
       "    .dataframe tbody tr th:only-of-type {\n",
       "        vertical-align: middle;\n",
       "    }\n",
       "\n",
       "    .dataframe tbody tr th {\n",
       "        vertical-align: top;\n",
       "    }\n",
       "\n",
       "    .dataframe thead th {\n",
       "        text-align: right;\n",
       "    }\n",
       "</style>\n",
       "<table border=\"1\" class=\"dataframe\">\n",
       "  <thead>\n",
       "    <tr style=\"text-align: right;\">\n",
       "      <th></th>\n",
       "      <th>country</th>\n",
       "      <th>iso_code</th>\n",
       "      <th>date</th>\n",
       "      <th>total_vaccinations</th>\n",
       "      <th>people_vaccinated</th>\n",
       "      <th>people_fully_vaccinated</th>\n",
       "      <th>daily_vaccinations_raw</th>\n",
       "      <th>daily_vaccinations</th>\n",
       "      <th>total_vaccinations_per_hundred</th>\n",
       "      <th>people_vaccinated_per_hundred</th>\n",
       "      <th>people_fully_vaccinated_per_hundred</th>\n",
       "      <th>daily_vaccinations_per_million</th>\n",
       "      <th>vaccines</th>\n",
       "      <th>source_name</th>\n",
       "      <th>source_website</th>\n",
       "    </tr>\n",
       "  </thead>\n",
       "  <tbody>\n",
       "    <tr>\n",
       "      <th>86502</th>\n",
       "      <td>Zimbabwe</td>\n",
       "      <td>ZWE</td>\n",
       "      <td>20-03-2022</td>\n",
       "      <td>8210637.0</td>\n",
       "      <td>4418956.0</td>\n",
       "      <td>3444793.0</td>\n",
       "      <td>2915.0</td>\n",
       "      <td>30641.0</td>\n",
       "      <td>54.40</td>\n",
       "      <td>29.28</td>\n",
       "      <td>22.83</td>\n",
       "      <td>2030.0</td>\n",
       "      <td>Oxford/AstraZeneca, Sinopharm/Beijing, Sinovac...</td>\n",
       "      <td>Ministry of Health</td>\n",
       "      <td>https://www.arcgis.com/home/webmap/viewer.html...</td>\n",
       "    </tr>\n",
       "    <tr>\n",
       "      <th>86503</th>\n",
       "      <td>Zimbabwe</td>\n",
       "      <td>ZWE</td>\n",
       "      <td>21-03-2022</td>\n",
       "      <td>8230061.0</td>\n",
       "      <td>4432618.0</td>\n",
       "      <td>3446894.0</td>\n",
       "      <td>19424.0</td>\n",
       "      <td>9630.0</td>\n",
       "      <td>54.53</td>\n",
       "      <td>29.37</td>\n",
       "      <td>22.84</td>\n",
       "      <td>638.0</td>\n",
       "      <td>Oxford/AstraZeneca, Sinopharm/Beijing, Sinovac...</td>\n",
       "      <td>Ministry of Health</td>\n",
       "      <td>https://www.arcgis.com/home/webmap/viewer.html...</td>\n",
       "    </tr>\n",
       "    <tr>\n",
       "      <th>86504</th>\n",
       "      <td>Zimbabwe</td>\n",
       "      <td>ZWE</td>\n",
       "      <td>22-03-2022</td>\n",
       "      <td>8313471.0</td>\n",
       "      <td>4503937.0</td>\n",
       "      <td>3450864.0</td>\n",
       "      <td>83410.0</td>\n",
       "      <td>19990.0</td>\n",
       "      <td>55.08</td>\n",
       "      <td>29.84</td>\n",
       "      <td>22.87</td>\n",
       "      <td>1325.0</td>\n",
       "      <td>Oxford/AstraZeneca, Sinopharm/Beijing, Sinovac...</td>\n",
       "      <td>Ministry of Health</td>\n",
       "      <td>https://www.arcgis.com/home/webmap/viewer.html...</td>\n",
       "    </tr>\n",
       "    <tr>\n",
       "      <th>86505</th>\n",
       "      <td>Zimbabwe</td>\n",
       "      <td>ZWE</td>\n",
       "      <td>23-03-2022</td>\n",
       "      <td>8414477.0</td>\n",
       "      <td>4589712.0</td>\n",
       "      <td>3455926.0</td>\n",
       "      <td>101006.0</td>\n",
       "      <td>32456.0</td>\n",
       "      <td>55.75</td>\n",
       "      <td>30.41</td>\n",
       "      <td>22.90</td>\n",
       "      <td>2151.0</td>\n",
       "      <td>Oxford/AstraZeneca, Sinopharm/Beijing, Sinovac...</td>\n",
       "      <td>Ministry of Health</td>\n",
       "      <td>https://www.arcgis.com/home/webmap/viewer.html...</td>\n",
       "    </tr>\n",
       "    <tr>\n",
       "      <th>86506</th>\n",
       "      <td>Zimbabwe</td>\n",
       "      <td>ZWE</td>\n",
       "      <td>24-03-2022</td>\n",
       "      <td>8552429.0</td>\n",
       "      <td>4704720.0</td>\n",
       "      <td>3461926.0</td>\n",
       "      <td>137952.0</td>\n",
       "      <td>51151.0</td>\n",
       "      <td>56.67</td>\n",
       "      <td>31.17</td>\n",
       "      <td>22.94</td>\n",
       "      <td>3389.0</td>\n",
       "      <td>Oxford/AstraZeneca, Sinopharm/Beijing, Sinovac...</td>\n",
       "      <td>Ministry of Health</td>\n",
       "      <td>https://www.arcgis.com/home/webmap/viewer.html...</td>\n",
       "    </tr>\n",
       "    <tr>\n",
       "      <th>86507</th>\n",
       "      <td>Zimbabwe</td>\n",
       "      <td>ZWE</td>\n",
       "      <td>25-03-2022</td>\n",
       "      <td>8691642.0</td>\n",
       "      <td>4814582.0</td>\n",
       "      <td>3473523.0</td>\n",
       "      <td>139213.0</td>\n",
       "      <td>69579.0</td>\n",
       "      <td>57.59</td>\n",
       "      <td>31.90</td>\n",
       "      <td>23.02</td>\n",
       "      <td>4610.0</td>\n",
       "      <td>Oxford/AstraZeneca, Sinopharm/Beijing, Sinovac...</td>\n",
       "      <td>Ministry of Health</td>\n",
       "      <td>https://www.arcgis.com/home/webmap/viewer.html...</td>\n",
       "    </tr>\n",
       "    <tr>\n",
       "      <th>86508</th>\n",
       "      <td>Zimbabwe</td>\n",
       "      <td>ZWE</td>\n",
       "      <td>26-03-2022</td>\n",
       "      <td>8791728.0</td>\n",
       "      <td>4886242.0</td>\n",
       "      <td>3487962.0</td>\n",
       "      <td>100086.0</td>\n",
       "      <td>83429.0</td>\n",
       "      <td>58.25</td>\n",
       "      <td>32.38</td>\n",
       "      <td>23.11</td>\n",
       "      <td>5528.0</td>\n",
       "      <td>Oxford/AstraZeneca, Sinopharm/Beijing, Sinovac...</td>\n",
       "      <td>Ministry of Health</td>\n",
       "      <td>https://www.arcgis.com/home/webmap/viewer.html...</td>\n",
       "    </tr>\n",
       "    <tr>\n",
       "      <th>86509</th>\n",
       "      <td>Zimbabwe</td>\n",
       "      <td>ZWE</td>\n",
       "      <td>27-03-2022</td>\n",
       "      <td>8845039.0</td>\n",
       "      <td>4918147.0</td>\n",
       "      <td>3493763.0</td>\n",
       "      <td>53311.0</td>\n",
       "      <td>90629.0</td>\n",
       "      <td>58.61</td>\n",
       "      <td>32.59</td>\n",
       "      <td>23.15</td>\n",
       "      <td>6005.0</td>\n",
       "      <td>Oxford/AstraZeneca, Sinopharm/Beijing, Sinovac...</td>\n",
       "      <td>Ministry of Health</td>\n",
       "      <td>https://www.arcgis.com/home/webmap/viewer.html...</td>\n",
       "    </tr>\n",
       "    <tr>\n",
       "      <th>86510</th>\n",
       "      <td>Zimbabwe</td>\n",
       "      <td>ZWE</td>\n",
       "      <td>28-03-2022</td>\n",
       "      <td>8934360.0</td>\n",
       "      <td>4975433.0</td>\n",
       "      <td>3501493.0</td>\n",
       "      <td>89321.0</td>\n",
       "      <td>100614.0</td>\n",
       "      <td>59.20</td>\n",
       "      <td>32.97</td>\n",
       "      <td>23.20</td>\n",
       "      <td>6667.0</td>\n",
       "      <td>Oxford/AstraZeneca, Sinopharm/Beijing, Sinovac...</td>\n",
       "      <td>Ministry of Health</td>\n",
       "      <td>https://www.arcgis.com/home/webmap/viewer.html...</td>\n",
       "    </tr>\n",
       "    <tr>\n",
       "      <th>86511</th>\n",
       "      <td>Zimbabwe</td>\n",
       "      <td>ZWE</td>\n",
       "      <td>29-03-2022</td>\n",
       "      <td>9039729.0</td>\n",
       "      <td>5053114.0</td>\n",
       "      <td>3510256.0</td>\n",
       "      <td>105369.0</td>\n",
       "      <td>103751.0</td>\n",
       "      <td>59.90</td>\n",
       "      <td>33.48</td>\n",
       "      <td>23.26</td>\n",
       "      <td>6874.0</td>\n",
       "      <td>Oxford/AstraZeneca, Sinopharm/Beijing, Sinovac...</td>\n",
       "      <td>Ministry of Health</td>\n",
       "      <td>https://www.arcgis.com/home/webmap/viewer.html...</td>\n",
       "    </tr>\n",
       "  </tbody>\n",
       "</table>\n",
       "</div>"
      ],
      "text/plain": [
       "        country iso_code        date  total_vaccinations  people_vaccinated  \\\n",
       "86502  Zimbabwe      ZWE  20-03-2022           8210637.0          4418956.0   \n",
       "86503  Zimbabwe      ZWE  21-03-2022           8230061.0          4432618.0   \n",
       "86504  Zimbabwe      ZWE  22-03-2022           8313471.0          4503937.0   \n",
       "86505  Zimbabwe      ZWE  23-03-2022           8414477.0          4589712.0   \n",
       "86506  Zimbabwe      ZWE  24-03-2022           8552429.0          4704720.0   \n",
       "86507  Zimbabwe      ZWE  25-03-2022           8691642.0          4814582.0   \n",
       "86508  Zimbabwe      ZWE  26-03-2022           8791728.0          4886242.0   \n",
       "86509  Zimbabwe      ZWE  27-03-2022           8845039.0          4918147.0   \n",
       "86510  Zimbabwe      ZWE  28-03-2022           8934360.0          4975433.0   \n",
       "86511  Zimbabwe      ZWE  29-03-2022           9039729.0          5053114.0   \n",
       "\n",
       "       people_fully_vaccinated  daily_vaccinations_raw  daily_vaccinations  \\\n",
       "86502                3444793.0                  2915.0             30641.0   \n",
       "86503                3446894.0                 19424.0              9630.0   \n",
       "86504                3450864.0                 83410.0             19990.0   \n",
       "86505                3455926.0                101006.0             32456.0   \n",
       "86506                3461926.0                137952.0             51151.0   \n",
       "86507                3473523.0                139213.0             69579.0   \n",
       "86508                3487962.0                100086.0             83429.0   \n",
       "86509                3493763.0                 53311.0             90629.0   \n",
       "86510                3501493.0                 89321.0            100614.0   \n",
       "86511                3510256.0                105369.0            103751.0   \n",
       "\n",
       "       total_vaccinations_per_hundred  people_vaccinated_per_hundred  \\\n",
       "86502                           54.40                          29.28   \n",
       "86503                           54.53                          29.37   \n",
       "86504                           55.08                          29.84   \n",
       "86505                           55.75                          30.41   \n",
       "86506                           56.67                          31.17   \n",
       "86507                           57.59                          31.90   \n",
       "86508                           58.25                          32.38   \n",
       "86509                           58.61                          32.59   \n",
       "86510                           59.20                          32.97   \n",
       "86511                           59.90                          33.48   \n",
       "\n",
       "       people_fully_vaccinated_per_hundred  daily_vaccinations_per_million  \\\n",
       "86502                                22.83                          2030.0   \n",
       "86503                                22.84                           638.0   \n",
       "86504                                22.87                          1325.0   \n",
       "86505                                22.90                          2151.0   \n",
       "86506                                22.94                          3389.0   \n",
       "86507                                23.02                          4610.0   \n",
       "86508                                23.11                          5528.0   \n",
       "86509                                23.15                          6005.0   \n",
       "86510                                23.20                          6667.0   \n",
       "86511                                23.26                          6874.0   \n",
       "\n",
       "                                                vaccines         source_name  \\\n",
       "86502  Oxford/AstraZeneca, Sinopharm/Beijing, Sinovac...  Ministry of Health   \n",
       "86503  Oxford/AstraZeneca, Sinopharm/Beijing, Sinovac...  Ministry of Health   \n",
       "86504  Oxford/AstraZeneca, Sinopharm/Beijing, Sinovac...  Ministry of Health   \n",
       "86505  Oxford/AstraZeneca, Sinopharm/Beijing, Sinovac...  Ministry of Health   \n",
       "86506  Oxford/AstraZeneca, Sinopharm/Beijing, Sinovac...  Ministry of Health   \n",
       "86507  Oxford/AstraZeneca, Sinopharm/Beijing, Sinovac...  Ministry of Health   \n",
       "86508  Oxford/AstraZeneca, Sinopharm/Beijing, Sinovac...  Ministry of Health   \n",
       "86509  Oxford/AstraZeneca, Sinopharm/Beijing, Sinovac...  Ministry of Health   \n",
       "86510  Oxford/AstraZeneca, Sinopharm/Beijing, Sinovac...  Ministry of Health   \n",
       "86511  Oxford/AstraZeneca, Sinopharm/Beijing, Sinovac...  Ministry of Health   \n",
       "\n",
       "                                          source_website  \n",
       "86502  https://www.arcgis.com/home/webmap/viewer.html...  \n",
       "86503  https://www.arcgis.com/home/webmap/viewer.html...  \n",
       "86504  https://www.arcgis.com/home/webmap/viewer.html...  \n",
       "86505  https://www.arcgis.com/home/webmap/viewer.html...  \n",
       "86506  https://www.arcgis.com/home/webmap/viewer.html...  \n",
       "86507  https://www.arcgis.com/home/webmap/viewer.html...  \n",
       "86508  https://www.arcgis.com/home/webmap/viewer.html...  \n",
       "86509  https://www.arcgis.com/home/webmap/viewer.html...  \n",
       "86510  https://www.arcgis.com/home/webmap/viewer.html...  \n",
       "86511  https://www.arcgis.com/home/webmap/viewer.html...  "
      ]
     },
     "execution_count": 4,
     "metadata": {},
     "output_type": "execute_result"
    }
   ],
   "source": [
    "df.tail(10)"
   ]
  },
  {
   "cell_type": "markdown",
   "id": "326b52e9-1c24-43fe-943f-62411bc85d5e",
   "metadata": {},
   "source": [
    "## Step 1 : DATA CLEANING"
   ]
  },
  {
   "cell_type": "markdown",
   "id": "d98ff198-5d5d-4102-af4d-272cf149b950",
   "metadata": {},
   "source": [
    "#### Finding Top 10 Vaccinated Countries"
   ]
  },
  {
   "cell_type": "code",
   "execution_count": 5,
   "id": "eea72d65-d682-4ec5-a622-280a5c889f91",
   "metadata": {},
   "outputs": [],
   "source": [
    "top_countries = (df.groupby('country')['total_vaccinations']\n",
    "    .max()      # because the data is cumulative , if not we'll use sum()\n",
    "    .sort_values(ascending=False)\n",
    "    .head(10)\n",
    "    .index      # this puts the name of countries in a list (descending order)\n",
    "    )"
   ]
  },
  {
   "cell_type": "markdown",
   "id": "0aadf88d-2126-4708-9029-4203d3d48bcd",
   "metadata": {},
   "source": [
    "#### Filtering To Top 10 Vaccinated Countries"
   ]
  },
  {
   "cell_type": "code",
   "execution_count": 6,
   "id": "5cabf8bf-c3a4-4f8c-be17-d4695ca64401",
   "metadata": {},
   "outputs": [],
   "source": [
    "df_small = df[df['country'].isin(top_countries)].copy()    # Made a copy to prevent the SettingWithCopyWarning that will show up when you filter the data within a date range. "
   ]
  },
  {
   "cell_type": "code",
   "execution_count": 7,
   "id": "2d75a66c-7001-4b3e-812e-a12fa97d0b09",
   "metadata": {},
   "outputs": [
    {
     "data": {
      "text/html": [
       "<div>\n",
       "<style scoped>\n",
       "    .dataframe tbody tr th:only-of-type {\n",
       "        vertical-align: middle;\n",
       "    }\n",
       "\n",
       "    .dataframe tbody tr th {\n",
       "        vertical-align: top;\n",
       "    }\n",
       "\n",
       "    .dataframe thead th {\n",
       "        text-align: right;\n",
       "    }\n",
       "</style>\n",
       "<table border=\"1\" class=\"dataframe\">\n",
       "  <thead>\n",
       "    <tr style=\"text-align: right;\">\n",
       "      <th></th>\n",
       "      <th>country</th>\n",
       "      <th>iso_code</th>\n",
       "      <th>date</th>\n",
       "      <th>total_vaccinations</th>\n",
       "      <th>people_vaccinated</th>\n",
       "      <th>people_fully_vaccinated</th>\n",
       "      <th>daily_vaccinations_raw</th>\n",
       "      <th>daily_vaccinations</th>\n",
       "      <th>total_vaccinations_per_hundred</th>\n",
       "      <th>people_vaccinated_per_hundred</th>\n",
       "      <th>people_fully_vaccinated_per_hundred</th>\n",
       "      <th>daily_vaccinations_per_million</th>\n",
       "      <th>vaccines</th>\n",
       "      <th>source_name</th>\n",
       "      <th>source_website</th>\n",
       "    </tr>\n",
       "  </thead>\n",
       "  <tbody>\n",
       "    <tr>\n",
       "      <th>6133</th>\n",
       "      <td>Bangladesh</td>\n",
       "      <td>BGD</td>\n",
       "      <td>26-01-2021</td>\n",
       "      <td>0.0</td>\n",
       "      <td>0.0</td>\n",
       "      <td>NaN</td>\n",
       "      <td>NaN</td>\n",
       "      <td>NaN</td>\n",
       "      <td>0.0</td>\n",
       "      <td>0.0</td>\n",
       "      <td>NaN</td>\n",
       "      <td>NaN</td>\n",
       "      <td>Johnson&amp;Johnson, Moderna, Oxford/AstraZeneca, ...</td>\n",
       "      <td>Directorate General of Health Services</td>\n",
       "      <td>http://103.247.238.92/webportal/pages/covid19-...</td>\n",
       "    </tr>\n",
       "    <tr>\n",
       "      <th>6134</th>\n",
       "      <td>Bangladesh</td>\n",
       "      <td>BGD</td>\n",
       "      <td>27-01-2021</td>\n",
       "      <td>26.0</td>\n",
       "      <td>26.0</td>\n",
       "      <td>NaN</td>\n",
       "      <td>26.0</td>\n",
       "      <td>26.0</td>\n",
       "      <td>0.0</td>\n",
       "      <td>0.0</td>\n",
       "      <td>NaN</td>\n",
       "      <td>0.0</td>\n",
       "      <td>Johnson&amp;Johnson, Moderna, Oxford/AstraZeneca, ...</td>\n",
       "      <td>Directorate General of Health Services</td>\n",
       "      <td>http://103.247.238.92/webportal/pages/covid19-...</td>\n",
       "    </tr>\n",
       "    <tr>\n",
       "      <th>6135</th>\n",
       "      <td>Bangladesh</td>\n",
       "      <td>BGD</td>\n",
       "      <td>28-01-2021</td>\n",
       "      <td>567.0</td>\n",
       "      <td>567.0</td>\n",
       "      <td>NaN</td>\n",
       "      <td>541.0</td>\n",
       "      <td>284.0</td>\n",
       "      <td>0.0</td>\n",
       "      <td>0.0</td>\n",
       "      <td>NaN</td>\n",
       "      <td>2.0</td>\n",
       "      <td>Johnson&amp;Johnson, Moderna, Oxford/AstraZeneca, ...</td>\n",
       "      <td>Directorate General of Health Services</td>\n",
       "      <td>http://103.247.238.92/webportal/pages/covid19-...</td>\n",
       "    </tr>\n",
       "    <tr>\n",
       "      <th>6136</th>\n",
       "      <td>Bangladesh</td>\n",
       "      <td>BGD</td>\n",
       "      <td>29-01-2021</td>\n",
       "      <td>NaN</td>\n",
       "      <td>NaN</td>\n",
       "      <td>NaN</td>\n",
       "      <td>NaN</td>\n",
       "      <td>1209.0</td>\n",
       "      <td>NaN</td>\n",
       "      <td>NaN</td>\n",
       "      <td>NaN</td>\n",
       "      <td>7.0</td>\n",
       "      <td>Johnson&amp;Johnson, Moderna, Oxford/AstraZeneca, ...</td>\n",
       "      <td>Directorate General of Health Services</td>\n",
       "      <td>http://103.247.238.92/webportal/pages/covid19-...</td>\n",
       "    </tr>\n",
       "    <tr>\n",
       "      <th>6137</th>\n",
       "      <td>Bangladesh</td>\n",
       "      <td>BGD</td>\n",
       "      <td>30-01-2021</td>\n",
       "      <td>NaN</td>\n",
       "      <td>NaN</td>\n",
       "      <td>NaN</td>\n",
       "      <td>NaN</td>\n",
       "      <td>1671.0</td>\n",
       "      <td>NaN</td>\n",
       "      <td>NaN</td>\n",
       "      <td>NaN</td>\n",
       "      <td>10.0</td>\n",
       "      <td>Johnson&amp;Johnson, Moderna, Oxford/AstraZeneca, ...</td>\n",
       "      <td>Directorate General of Health Services</td>\n",
       "      <td>http://103.247.238.92/webportal/pages/covid19-...</td>\n",
       "    </tr>\n",
       "  </tbody>\n",
       "</table>\n",
       "</div>"
      ],
      "text/plain": [
       "         country iso_code        date  total_vaccinations  people_vaccinated  \\\n",
       "6133  Bangladesh      BGD  26-01-2021                 0.0                0.0   \n",
       "6134  Bangladesh      BGD  27-01-2021                26.0               26.0   \n",
       "6135  Bangladesh      BGD  28-01-2021               567.0              567.0   \n",
       "6136  Bangladesh      BGD  29-01-2021                 NaN                NaN   \n",
       "6137  Bangladesh      BGD  30-01-2021                 NaN                NaN   \n",
       "\n",
       "      people_fully_vaccinated  daily_vaccinations_raw  daily_vaccinations  \\\n",
       "6133                      NaN                     NaN                 NaN   \n",
       "6134                      NaN                    26.0                26.0   \n",
       "6135                      NaN                   541.0               284.0   \n",
       "6136                      NaN                     NaN              1209.0   \n",
       "6137                      NaN                     NaN              1671.0   \n",
       "\n",
       "      total_vaccinations_per_hundred  people_vaccinated_per_hundred  \\\n",
       "6133                             0.0                            0.0   \n",
       "6134                             0.0                            0.0   \n",
       "6135                             0.0                            0.0   \n",
       "6136                             NaN                            NaN   \n",
       "6137                             NaN                            NaN   \n",
       "\n",
       "      people_fully_vaccinated_per_hundred  daily_vaccinations_per_million  \\\n",
       "6133                                  NaN                             NaN   \n",
       "6134                                  NaN                             0.0   \n",
       "6135                                  NaN                             2.0   \n",
       "6136                                  NaN                             7.0   \n",
       "6137                                  NaN                            10.0   \n",
       "\n",
       "                                               vaccines  \\\n",
       "6133  Johnson&Johnson, Moderna, Oxford/AstraZeneca, ...   \n",
       "6134  Johnson&Johnson, Moderna, Oxford/AstraZeneca, ...   \n",
       "6135  Johnson&Johnson, Moderna, Oxford/AstraZeneca, ...   \n",
       "6136  Johnson&Johnson, Moderna, Oxford/AstraZeneca, ...   \n",
       "6137  Johnson&Johnson, Moderna, Oxford/AstraZeneca, ...   \n",
       "\n",
       "                                 source_name  \\\n",
       "6133  Directorate General of Health Services   \n",
       "6134  Directorate General of Health Services   \n",
       "6135  Directorate General of Health Services   \n",
       "6136  Directorate General of Health Services   \n",
       "6137  Directorate General of Health Services   \n",
       "\n",
       "                                         source_website  \n",
       "6133  http://103.247.238.92/webportal/pages/covid19-...  \n",
       "6134  http://103.247.238.92/webportal/pages/covid19-...  \n",
       "6135  http://103.247.238.92/webportal/pages/covid19-...  \n",
       "6136  http://103.247.238.92/webportal/pages/covid19-...  \n",
       "6137  http://103.247.238.92/webportal/pages/covid19-...  "
      ]
     },
     "execution_count": 7,
     "metadata": {},
     "output_type": "execute_result"
    }
   ],
   "source": [
    "df_small.head(5)"
   ]
  },
  {
   "cell_type": "code",
   "execution_count": 8,
   "id": "56727d63-622c-42ad-9a64-3836e33ba141",
   "metadata": {},
   "outputs": [
    {
     "data": {
      "text/plain": [
       "(4337, 15)"
      ]
     },
     "execution_count": 8,
     "metadata": {},
     "output_type": "execute_result"
    }
   ],
   "source": [
    "df_small.shape"
   ]
  },
  {
   "cell_type": "code",
   "execution_count": 9,
   "id": "836295fd-625d-4515-b197-d4a0d9c214d1",
   "metadata": {},
   "outputs": [
    {
     "name": "stdout",
     "output_type": "stream",
     "text": [
      "223\n"
     ]
    }
   ],
   "source": [
    "print(len(df['country'].unique()))   # before filtering there were 223 countries."
   ]
  },
  {
   "cell_type": "code",
   "execution_count": 10,
   "id": "ccf3f10e-4e5c-4063-8920-8a0b77b7d99a",
   "metadata": {},
   "outputs": [
    {
     "name": "stdout",
     "output_type": "stream",
     "text": [
      "['Bangladesh' 'Brazil' 'China' 'India' 'Indonesia' 'Japan' 'Mexico'\n",
      " 'Pakistan' 'United States' 'Vietnam']\n"
     ]
    }
   ],
   "source": [
    "print(df_small['country'].unique())"
   ]
  },
  {
   "cell_type": "markdown",
   "id": "81e1e72e-b85b-4a63-8556-fdbd174347f3",
   "metadata": {},
   "source": [
    "#### Filtered data Of 1 Year"
   ]
  },
  {
   "cell_type": "code",
   "execution_count": 11,
   "id": "18ea42ba-85f0-45c3-88ee-2703553fd34a",
   "metadata": {},
   "outputs": [],
   "source": [
    "df_small['date'] = pd.to_datetime(df_small['date'], format=\"%d-%m-%Y\")\n",
    "df_small = df_small[\n",
    "    (df_small['date'] >= \"2021-01-01\") &\n",
    "    (df_small['date'] <= \"2021-12-31\")\n",
    "]"
   ]
  },
  {
   "cell_type": "code",
   "execution_count": 12,
   "id": "75bf72c0-44b1-4d38-b28d-af575480baf0",
   "metadata": {},
   "outputs": [
    {
     "data": {
      "text/html": [
       "<div>\n",
       "<style scoped>\n",
       "    .dataframe tbody tr th:only-of-type {\n",
       "        vertical-align: middle;\n",
       "    }\n",
       "\n",
       "    .dataframe tbody tr th {\n",
       "        vertical-align: top;\n",
       "    }\n",
       "\n",
       "    .dataframe thead th {\n",
       "        text-align: right;\n",
       "    }\n",
       "</style>\n",
       "<table border=\"1\" class=\"dataframe\">\n",
       "  <thead>\n",
       "    <tr style=\"text-align: right;\">\n",
       "      <th></th>\n",
       "      <th>country</th>\n",
       "      <th>iso_code</th>\n",
       "      <th>date</th>\n",
       "      <th>total_vaccinations</th>\n",
       "      <th>people_vaccinated</th>\n",
       "      <th>people_fully_vaccinated</th>\n",
       "      <th>daily_vaccinations_raw</th>\n",
       "      <th>daily_vaccinations</th>\n",
       "      <th>total_vaccinations_per_hundred</th>\n",
       "      <th>people_vaccinated_per_hundred</th>\n",
       "      <th>people_fully_vaccinated_per_hundred</th>\n",
       "      <th>daily_vaccinations_per_million</th>\n",
       "      <th>vaccines</th>\n",
       "      <th>source_name</th>\n",
       "      <th>source_website</th>\n",
       "    </tr>\n",
       "  </thead>\n",
       "  <tbody>\n",
       "    <tr>\n",
       "      <th>84472</th>\n",
       "      <td>Vietnam</td>\n",
       "      <td>VNM</td>\n",
       "      <td>2021-10-15</td>\n",
       "      <td>NaN</td>\n",
       "      <td>NaN</td>\n",
       "      <td>NaN</td>\n",
       "      <td>NaN</td>\n",
       "      <td>1213354.0</td>\n",
       "      <td>NaN</td>\n",
       "      <td>NaN</td>\n",
       "      <td>NaN</td>\n",
       "      <td>12360.0</td>\n",
       "      <td>Abdala, Moderna, Oxford/AstraZeneca, Pfizer/Bi...</td>\n",
       "      <td>World Health Organization</td>\n",
       "      <td>https://covid19.gov.vn/ngay-23-3-so-mac-moi-co...</td>\n",
       "    </tr>\n",
       "    <tr>\n",
       "      <th>39525</th>\n",
       "      <td>Japan</td>\n",
       "      <td>JPN</td>\n",
       "      <td>2021-11-14</td>\n",
       "      <td>194370766.0</td>\n",
       "      <td>99237050.0</td>\n",
       "      <td>95133716.0</td>\n",
       "      <td>NaN</td>\n",
       "      <td>327407.0</td>\n",
       "      <td>154.20</td>\n",
       "      <td>78.73</td>\n",
       "      <td>75.47</td>\n",
       "      <td>2597.0</td>\n",
       "      <td>Moderna, Oxford/AstraZeneca, Pfizer/BioNTech</td>\n",
       "      <td>Prime Minister's Office</td>\n",
       "      <td>https://www.kantei.go.jp/jp/headline/kansensho...</td>\n",
       "    </tr>\n",
       "    <tr>\n",
       "      <th>59569</th>\n",
       "      <td>Pakistan</td>\n",
       "      <td>PAK</td>\n",
       "      <td>2021-06-02</td>\n",
       "      <td>7648481.0</td>\n",
       "      <td>5706680.0</td>\n",
       "      <td>2076600.0</td>\n",
       "      <td>311294.0</td>\n",
       "      <td>253601.0</td>\n",
       "      <td>3.40</td>\n",
       "      <td>2.53</td>\n",
       "      <td>0.92</td>\n",
       "      <td>1126.0</td>\n",
       "      <td>CanSino, Covaxin, Moderna, Oxford/AstraZeneca,...</td>\n",
       "      <td>National Command and Operation Centre</td>\n",
       "      <td>https://ncoc.gov.pk/covid-vaccination-en.php</td>\n",
       "    </tr>\n",
       "    <tr>\n",
       "      <th>36164</th>\n",
       "      <td>Indonesia</td>\n",
       "      <td>IDN</td>\n",
       "      <td>2021-12-31</td>\n",
       "      <td>274749184.0</td>\n",
       "      <td>161082857.0</td>\n",
       "      <td>113666327.0</td>\n",
       "      <td>1732373.0</td>\n",
       "      <td>1339844.0</td>\n",
       "      <td>99.42</td>\n",
       "      <td>58.29</td>\n",
       "      <td>41.13</td>\n",
       "      <td>4848.0</td>\n",
       "      <td>Johnson&amp;Johnson, Moderna, Novavax, Oxford/Astr...</td>\n",
       "      <td>Government of Indonesia</td>\n",
       "      <td>https://data.covid19.go.id/public/index.html</td>\n",
       "    </tr>\n",
       "    <tr>\n",
       "      <th>82396</th>\n",
       "      <td>United States</td>\n",
       "      <td>USA</td>\n",
       "      <td>2021-01-18</td>\n",
       "      <td>19902912.0</td>\n",
       "      <td>16818553.0</td>\n",
       "      <td>2708357.0</td>\n",
       "      <td>884961.0</td>\n",
       "      <td>999469.0</td>\n",
       "      <td>5.99</td>\n",
       "      <td>5.07</td>\n",
       "      <td>0.82</td>\n",
       "      <td>3010.0</td>\n",
       "      <td>Johnson&amp;Johnson, Moderna, Pfizer/BioNTech</td>\n",
       "      <td>Centers for Disease Control and Prevention</td>\n",
       "      <td>https://data.cdc.gov/Vaccinations/COVID-19-Vac...</td>\n",
       "    </tr>\n",
       "  </tbody>\n",
       "</table>\n",
       "</div>"
      ],
      "text/plain": [
       "             country iso_code       date  total_vaccinations  \\\n",
       "84472        Vietnam      VNM 2021-10-15                 NaN   \n",
       "39525          Japan      JPN 2021-11-14         194370766.0   \n",
       "59569       Pakistan      PAK 2021-06-02           7648481.0   \n",
       "36164      Indonesia      IDN 2021-12-31         274749184.0   \n",
       "82396  United States      USA 2021-01-18          19902912.0   \n",
       "\n",
       "       people_vaccinated  people_fully_vaccinated  daily_vaccinations_raw  \\\n",
       "84472                NaN                      NaN                     NaN   \n",
       "39525         99237050.0               95133716.0                     NaN   \n",
       "59569          5706680.0                2076600.0                311294.0   \n",
       "36164        161082857.0              113666327.0               1732373.0   \n",
       "82396         16818553.0                2708357.0                884961.0   \n",
       "\n",
       "       daily_vaccinations  total_vaccinations_per_hundred  \\\n",
       "84472           1213354.0                             NaN   \n",
       "39525            327407.0                          154.20   \n",
       "59569            253601.0                            3.40   \n",
       "36164           1339844.0                           99.42   \n",
       "82396            999469.0                            5.99   \n",
       "\n",
       "       people_vaccinated_per_hundred  people_fully_vaccinated_per_hundred  \\\n",
       "84472                            NaN                                  NaN   \n",
       "39525                          78.73                                75.47   \n",
       "59569                           2.53                                 0.92   \n",
       "36164                          58.29                                41.13   \n",
       "82396                           5.07                                 0.82   \n",
       "\n",
       "       daily_vaccinations_per_million  \\\n",
       "84472                         12360.0   \n",
       "39525                          2597.0   \n",
       "59569                          1126.0   \n",
       "36164                          4848.0   \n",
       "82396                          3010.0   \n",
       "\n",
       "                                                vaccines  \\\n",
       "84472  Abdala, Moderna, Oxford/AstraZeneca, Pfizer/Bi...   \n",
       "39525       Moderna, Oxford/AstraZeneca, Pfizer/BioNTech   \n",
       "59569  CanSino, Covaxin, Moderna, Oxford/AstraZeneca,...   \n",
       "36164  Johnson&Johnson, Moderna, Novavax, Oxford/Astr...   \n",
       "82396          Johnson&Johnson, Moderna, Pfizer/BioNTech   \n",
       "\n",
       "                                      source_name  \\\n",
       "84472                   World Health Organization   \n",
       "39525                     Prime Minister's Office   \n",
       "59569       National Command and Operation Centre   \n",
       "36164                     Government of Indonesia   \n",
       "82396  Centers for Disease Control and Prevention   \n",
       "\n",
       "                                          source_website  \n",
       "84472  https://covid19.gov.vn/ngay-23-3-so-mac-moi-co...  \n",
       "39525  https://www.kantei.go.jp/jp/headline/kansensho...  \n",
       "59569       https://ncoc.gov.pk/covid-vaccination-en.php  \n",
       "36164       https://data.covid19.go.id/public/index.html  \n",
       "82396  https://data.cdc.gov/Vaccinations/COVID-19-Vac...  "
      ]
     },
     "execution_count": 12,
     "metadata": {},
     "output_type": "execute_result"
    }
   ],
   "source": [
    "df_small.sample(5)"
   ]
  },
  {
   "cell_type": "code",
   "execution_count": 13,
   "id": "a1d255c4-4f65-4290-8529-efa4cfb25b4e",
   "metadata": {},
   "outputs": [
    {
     "data": {
      "text/plain": [
       "(3440, 15)"
      ]
     },
     "execution_count": 13,
     "metadata": {},
     "output_type": "execute_result"
    }
   ],
   "source": [
    "df_small.shape"
   ]
  },
  {
   "cell_type": "code",
   "execution_count": 14,
   "id": "97b1b7db-f126-4618-8674-fa7db8559592",
   "metadata": {},
   "outputs": [
    {
     "data": {
      "text/plain": [
       "Index(['country', 'iso_code', 'date', 'total_vaccinations',\n",
       "       'people_vaccinated', 'people_fully_vaccinated',\n",
       "       'daily_vaccinations_raw', 'daily_vaccinations',\n",
       "       'total_vaccinations_per_hundred', 'people_vaccinated_per_hundred',\n",
       "       'people_fully_vaccinated_per_hundred', 'daily_vaccinations_per_million',\n",
       "       'vaccines', 'source_name', 'source_website'],\n",
       "      dtype='object')"
      ]
     },
     "execution_count": 14,
     "metadata": {},
     "output_type": "execute_result"
    }
   ],
   "source": [
    "df_small.columns"
   ]
  },
  {
   "cell_type": "markdown",
   "id": "8baf4f0e-38e4-4299-b746-9b4e5d10aabe",
   "metadata": {},
   "source": [
    "#### Removing the useless columns"
   ]
  },
  {
   "cell_type": "code",
   "execution_count": 15,
   "id": "f2cea9d5-0835-4d25-b44a-1fadb664d742",
   "metadata": {},
   "outputs": [],
   "source": [
    "df_small = df_small.drop(columns = ['iso_code',\n",
    "                                    'source_name',\n",
    "                                    'source_website',\n",
    "                                    'vaccines',\n",
    "                                    'daily_vaccinations_raw',\n",
    "                                    'total_vaccinations_per_hundred',    # all per_hundreds column data is only useful when calculating 'what percentage of population' kind metrics.\n",
    "                                    'people_vaccinated_per_hundred',\n",
    "                                    'people_fully_vaccinated_per_hundred',\n",
    "                                    'daily_vaccinations_per_million'     # per_million are useful when calculating per capita comparisions.\n",
    "                                   ])"
   ]
  },
  {
   "cell_type": "code",
   "execution_count": 16,
   "id": "d68785ff-7ec4-41d0-ad74-83848a53ba38",
   "metadata": {},
   "outputs": [
    {
     "data": {
      "text/plain": [
       "Index(['country', 'date', 'total_vaccinations', 'people_vaccinated',\n",
       "       'people_fully_vaccinated', 'daily_vaccinations'],\n",
       "      dtype='object')"
      ]
     },
     "execution_count": 16,
     "metadata": {},
     "output_type": "execute_result"
    }
   ],
   "source": [
    "df_small.columns"
   ]
  },
  {
   "cell_type": "markdown",
   "id": "e5d17d39-ddd6-451d-ba95-839c81da8c0d",
   "metadata": {},
   "source": [
    "## Step 2 : Data Quality Check"
   ]
  },
  {
   "cell_type": "markdown",
   "id": "c8c6373e-bd1c-451e-ba8e-4f671726207e",
   "metadata": {},
   "source": [
    "#### Check for missing values"
   ]
  },
  {
   "cell_type": "code",
   "execution_count": 17,
   "id": "fb02f865-d585-4378-85b0-a2e063af4f01",
   "metadata": {},
   "outputs": [
    {
     "data": {
      "text/plain": [
       "country                       0\n",
       "date                          0\n",
       "total_vaccinations          598\n",
       "people_vaccinated           903\n",
       "people_fully_vaccinated    1152\n",
       "daily_vaccinations            7\n",
       "dtype: int64"
      ]
     },
     "execution_count": 17,
     "metadata": {},
     "output_type": "execute_result"
    }
   ],
   "source": [
    "df_small.isnull().sum()"
   ]
  },
  {
   "cell_type": "code",
   "execution_count": 18,
   "id": "fd68d352-efd1-4797-aae7-e636e008f2fb",
   "metadata": {},
   "outputs": [
    {
     "data": {
      "text/plain": [
       "country                     0.00\n",
       "date                        0.00\n",
       "total_vaccinations         17.38\n",
       "people_vaccinated          26.25\n",
       "people_fully_vaccinated    33.49\n",
       "daily_vaccinations          0.20\n",
       "dtype: float64"
      ]
     },
     "execution_count": 18,
     "metadata": {},
     "output_type": "execute_result"
    }
   ],
   "source": [
    "(df_small.isna().sum() / len(df_small) * 100 ).round(2)    # What percent of column is empty"
   ]
  },
  {
   "cell_type": "markdown",
   "id": "3b04c23b-7431-4aeb-b3fc-139a60327cfd",
   "metadata": {},
   "source": [
    "#### Filling in missing values"
   ]
  },
  {
   "cell_type": "code",
   "execution_count": 19,
   "id": "cb37c2d6-12f7-459a-bb6c-5a2a88b178b6",
   "metadata": {},
   "outputs": [],
   "source": [
    "df_small[['total_vaccinations','people_vaccinated','people_fully_vaccinated']] = (               # ***Very important to Mention columns [['total_vaccinations'....]]  the we want to update . if not and write  \"df_small=\" only will remove all other column and only save the updated ones. ***                                                   \n",
    "    df_small.groupby('country')[['total_vaccinations','people_vaccinated','people_fully_vaccinated']]\n",
    "        .ffill()\n",
    ")"
   ]
  },
  {
   "cell_type": "code",
   "execution_count": 20,
   "id": "64f73297-12d7-4ac1-9598-7094659fa537",
   "metadata": {},
   "outputs": [
    {
     "data": {
      "text/plain": [
       "country                     0.00\n",
       "date                        0.00\n",
       "total_vaccinations          0.32\n",
       "people_vaccinated           4.74\n",
       "people_fully_vaccinated    15.87\n",
       "daily_vaccinations          0.20\n",
       "dtype: float64"
      ]
     },
     "execution_count": 20,
     "metadata": {},
     "output_type": "execute_result"
    }
   ],
   "source": [
    "(df_small.isna().sum() / len(df_small) * 100 ).round(2)"
   ]
  },
  {
   "cell_type": "code",
   "execution_count": 21,
   "id": "db0c6eb1-9761-4692-a304-4cf004181185",
   "metadata": {},
   "outputs": [
    {
     "data": {
      "text/plain": [
       "country                      0\n",
       "date                         0\n",
       "total_vaccinations          11\n",
       "people_vaccinated          163\n",
       "people_fully_vaccinated    546\n",
       "daily_vaccinations           7\n",
       "dtype: int64"
      ]
     },
     "execution_count": 21,
     "metadata": {},
     "output_type": "execute_result"
    }
   ],
   "source": [
    "df_small.isnull().sum()"
   ]
  },
  {
   "cell_type": "code",
   "execution_count": 22,
   "id": "b03059bd-8c3d-4115-947b-d1833ca40b19",
   "metadata": {},
   "outputs": [],
   "source": [
    "df_small[['total_vaccinations', 'people_vaccinated', 'people_fully_vaccinated']] = (\n",
    "    df_small[['total_vaccinations', 'people_vaccinated', 'people_fully_vaccinated']]\n",
    "        .fillna(0) \n",
    ")"
   ]
  },
  {
   "cell_type": "code",
   "execution_count": 23,
   "id": "0465d9f1-80aa-46f0-9489-a3a700c9b663",
   "metadata": {},
   "outputs": [
    {
     "data": {
      "text/plain": [
       "country                    0\n",
       "date                       0\n",
       "total_vaccinations         0\n",
       "people_vaccinated          0\n",
       "people_fully_vaccinated    0\n",
       "daily_vaccinations         7\n",
       "dtype: int64"
      ]
     },
     "execution_count": 23,
     "metadata": {},
     "output_type": "execute_result"
    }
   ],
   "source": [
    "df_small.isnull().sum()"
   ]
  },
  {
   "cell_type": "code",
   "execution_count": 24,
   "id": "aab82c9e-094a-4e4b-b25f-e0315d0059c5",
   "metadata": {},
   "outputs": [],
   "source": [
    "df_small['daily_vaccinations'] = (\n",
    "    df_small['daily_vaccinations']\n",
    "        .fillna(0) \n",
    ")"
   ]
  },
  {
   "cell_type": "code",
   "execution_count": 25,
   "id": "182d0d9e-7b52-4cf7-9f16-8465b888ce8d",
   "metadata": {},
   "outputs": [
    {
     "data": {
      "text/plain": [
       "country                    0\n",
       "date                       0\n",
       "total_vaccinations         0\n",
       "people_vaccinated          0\n",
       "people_fully_vaccinated    0\n",
       "daily_vaccinations         0\n",
       "dtype: int64"
      ]
     },
     "execution_count": 25,
     "metadata": {},
     "output_type": "execute_result"
    }
   ],
   "source": [
    "df_small.isnull().sum()"
   ]
  },
  {
   "cell_type": "markdown",
   "id": "8b6a2ac0-7925-4ca2-a25b-46852ca32134",
   "metadata": {},
   "source": [
    "## Step 3: KPI Requirements"
   ]
  },
  {
   "cell_type": "code",
   "execution_count": 26,
   "id": "10e6c634-0c91-455c-8788-8a049407bbd5",
   "metadata": {},
   "outputs": [],
   "source": [
    "#1. Total Vaccinations Administered Per Country\n",
    "total_per_country = df_small.groupby('country')['total_vaccinations'].max().sort_values(ascending=False)\n",
    "\n",
    "#2. People Vaccinated (at least 1 dose)\n",
    "vaccinated_people = df_small.groupby('country')['people_vaccinated'].max().sort_values(ascending=False)\n",
    "\n",
    "#3. Fully Vaccinated People\n",
    "fully_vaccinated_people = df_small.groupby('country')['people_fully_vaccinated'].max().sort_values(ascending=False)\n",
    "\n",
    "#4. Average Daily Vaccinations\n",
    "avg_daily_vaccination = df_small.groupby('country')['daily_vaccinations'].mean()\n",
    "\n",
    "#5. Highest Single-Day Vaccination Count (Country)\n",
    "highest_single_day = df_small.groupby('country')['daily_vaccinations'].max().sort_values(ascending=False)\n",
    "\n",
    "#6. Country with Fastest Vaccination Coverage Increase (50% Coverage)\n",
    " # To calculate the country that took the fewest days to reach 50% of its total vaccinated population, We calculated by finding each country’s first vaccination date, computing half of total vaccinated, and measuring days to reach that threshold.\n",
    " # All the code is written below"
   ]
  },
  {
   "cell_type": "code",
   "execution_count": 27,
   "id": "9e89844f-abdb-4d16-8d08-d116d76de2fd",
   "metadata": {},
   "outputs": [],
   "source": [
    "max_vaccinated = df_small.groupby('country')['people_vaccinated'].max().reset_index()"
   ]
  },
  {
   "cell_type": "code",
   "execution_count": 28,
   "id": "c839f5aa-b202-40d3-bd0e-927b3657d04e",
   "metadata": {},
   "outputs": [],
   "source": [
    "max_vaccinated['half_vaccinated'] = (max_vaccinated['people_vaccinated'] / 2).round()"
   ]
  },
  {
   "cell_type": "code",
   "execution_count": 29,
   "id": "32821b6b-18ce-4722-acf0-79a9e78db51e",
   "metadata": {},
   "outputs": [],
   "source": [
    "df_small = df_small.merge(max_vaccinated[['country','half_vaccinated']],\n",
    "                         on = 'country',\n",
    "                         how = 'left'\n",
    "                         )"
   ]
  },
  {
   "cell_type": "code",
   "execution_count": 30,
   "id": "00d0972e-e336-4b5b-983f-738ee7f7369f",
   "metadata": {},
   "outputs": [],
   "source": [
    "start_dates = df_small.groupby('country')['date'].min().reset_index()"
   ]
  },
  {
   "cell_type": "code",
   "execution_count": 31,
   "id": "7e804c7c-9e11-4b54-ad63-1855e9f49522",
   "metadata": {},
   "outputs": [],
   "source": [
    "df_small = df_small.merge(\n",
    "    start_dates[['country','date']].rename(columns={'date': 'start_date'}),\n",
    "    on = 'country',\n",
    "    how = 'left'\n",
    ")"
   ]
  },
  {
   "cell_type": "code",
   "execution_count": 32,
   "id": "1bd8585b-0610-4725-887f-66cfd742379b",
   "metadata": {},
   "outputs": [],
   "source": [
    "half_vaccinated_date = (\n",
    "    df_small[df_small['people_vaccinated'] >= df_small['half_vaccinated']]\n",
    "    .groupby('country')['date']\n",
    "    .min()\n",
    "    .reset_index()\n",
    "    )"
   ]
  },
  {
   "cell_type": "code",
   "execution_count": 33,
   "id": "aa800a10-5419-4363-a3f0-468378640125",
   "metadata": {},
   "outputs": [],
   "source": [
    "df_small = df_small.merge(\n",
    "    half_vaccinated_date[['country','date']].rename(columns={'date': 'half_vaccinated_dates'}),\n",
    "    on = 'country',\n",
    "    how = 'left'\n",
    ")"
   ]
  },
  {
   "cell_type": "code",
   "execution_count": 34,
   "id": "a0371a11-2adc-44f9-bf2c-b7505e4958f9",
   "metadata": {},
   "outputs": [],
   "source": [
    "df_small_unique = df_small.drop_duplicates(subset = ['country'])[['country','start_date','half_vaccinated_dates']]   # After dropping duplicates, New DataFrame selects only these three columns from the 'df_small' DataFrame."
   ]
  },
  {
   "cell_type": "code",
   "execution_count": 35,
   "id": "fa3e3105-c5e6-462e-9265-8f2339b46c6d",
   "metadata": {},
   "outputs": [],
   "source": [
    "df_small_unique['days_to_50pct'] = (df_small_unique['half_vaccinated_dates'] - df_small_unique['start_date']).dt.days"
   ]
  },
  {
   "cell_type": "code",
   "execution_count": 36,
   "id": "0d196955-697b-4ecb-aad1-18b7639af939",
   "metadata": {},
   "outputs": [],
   "source": [
    "df_small_unique = df_small_unique.sort_values(['days_to_50pct'])[['country','days_to_50pct']]"
   ]
  },
  {
   "cell_type": "markdown",
   "id": "15d37131-f54c-4a63-ad24-f85f2492db49",
   "metadata": {},
   "source": [
    "### 6th KPI requirement data"
   ]
  },
  {
   "cell_type": "code",
   "execution_count": 37,
   "id": "10f55a4c-3a8c-4cd7-9308-0b02b835d914",
   "metadata": {},
   "outputs": [
    {
     "data": {
      "text/html": [
       "<div>\n",
       "<style scoped>\n",
       "    .dataframe tbody tr th:only-of-type {\n",
       "        vertical-align: middle;\n",
       "    }\n",
       "\n",
       "    .dataframe tbody tr th {\n",
       "        vertical-align: top;\n",
       "    }\n",
       "\n",
       "    .dataframe thead th {\n",
       "        text-align: right;\n",
       "    }\n",
       "</style>\n",
       "<table border=\"1\" class=\"dataframe\">\n",
       "  <thead>\n",
       "    <tr style=\"text-align: right;\">\n",
       "      <th></th>\n",
       "      <th>country</th>\n",
       "      <th>days_to_50pct</th>\n",
       "    </tr>\n",
       "  </thead>\n",
       "  <tbody>\n",
       "    <tr>\n",
       "      <th>2775</th>\n",
       "      <td>United States</td>\n",
       "      <td>97</td>\n",
       "    </tr>\n",
       "    <tr>\n",
       "      <th>1759</th>\n",
       "      <td>Japan</td>\n",
       "      <td>162</td>\n",
       "    </tr>\n",
       "    <tr>\n",
       "      <th>340</th>\n",
       "      <td>Brazil</td>\n",
       "      <td>172</td>\n",
       "    </tr>\n",
       "    <tr>\n",
       "      <th>2077</th>\n",
       "      <td>Mexico</td>\n",
       "      <td>204</td>\n",
       "    </tr>\n",
       "    <tr>\n",
       "      <th>1054</th>\n",
       "      <td>India</td>\n",
       "      <td>213</td>\n",
       "    </tr>\n",
       "    <tr>\n",
       "      <th>2442</th>\n",
       "      <td>Pakistan</td>\n",
       "      <td>217</td>\n",
       "    </tr>\n",
       "    <tr>\n",
       "      <th>3140</th>\n",
       "      <td>Vietnam</td>\n",
       "      <td>218</td>\n",
       "    </tr>\n",
       "    <tr>\n",
       "      <th>689</th>\n",
       "      <td>China</td>\n",
       "      <td>237</td>\n",
       "    </tr>\n",
       "    <tr>\n",
       "      <th>0</th>\n",
       "      <td>Bangladesh</td>\n",
       "      <td>250</td>\n",
       "    </tr>\n",
       "    <tr>\n",
       "      <th>1405</th>\n",
       "      <td>Indonesia</td>\n",
       "      <td>253</td>\n",
       "    </tr>\n",
       "  </tbody>\n",
       "</table>\n",
       "</div>"
      ],
      "text/plain": [
       "            country  days_to_50pct\n",
       "2775  United States             97\n",
       "1759          Japan            162\n",
       "340          Brazil            172\n",
       "2077         Mexico            204\n",
       "1054          India            213\n",
       "2442       Pakistan            217\n",
       "3140        Vietnam            218\n",
       "689           China            237\n",
       "0        Bangladesh            250\n",
       "1405      Indonesia            253"
      ]
     },
     "execution_count": 37,
     "metadata": {},
     "output_type": "execute_result"
    }
   ],
   "source": [
    "df_small_unique"
   ]
  },
  {
   "cell_type": "markdown",
   "id": "33f2baca-ec4d-4d49-ab00-7069b158eb06",
   "metadata": {},
   "source": [
    "## STEP 3: Visualization"
   ]
  },
  {
   "cell_type": "code",
   "execution_count": 97,
   "id": "456030f3-49bb-44b5-bfaf-ef49b59fcd9c",
   "metadata": {},
   "outputs": [
    {
     "data": {
      "image/png": "[encoded data removed]",
      "text/plain": [
       "<Figure size 1000x500 with 1 Axes>"
      ]
     },
     "metadata": {},
     "output_type": "display_data"
    }
   ],
   "source": [
    "#1 Total Vaccinations Administered Per Country\n",
    "plt.figure(figsize=(10,5))\n",
    "colors = ['orange' if country == 'India' else 'skyblue' for country in total_per_country.index]\n",
    "bars = plt.bar(total_per_country.index, total_per_country.values, color = colors)\n",
    "\n",
    "plt.xlabel('Countries')\n",
    "plt.ylabel('Vaccinations Administered')\n",
    "plt.title('Total Vaccinations Administered Per Country')\n",
    "\n",
    "for bar in bars:\n",
    "    plt.text(bar.get_x() + bar.get_width()/2, bar.get_height(),\n",
    "             f\"{bar.get_height()*1e-9:.2f}B\", ha = 'center', va = 'bottom', fontsize=8\n",
    "            )\n",
    "\n",
    "plt.tight_layout()\n",
    "plt.show()\n"
   ]
  },
  {
   "cell_type": "code",
   "execution_count": 50,
   "id": "9e0dd267-d930-4759-9398-893112255186",
   "metadata": {},
   "outputs": [
    {
     "data": {
      "image/png": "[encoded data removed]",
      "text/plain": [
       "<Figure size 1000x600 with 1 Axes>"
      ]
     },
     "metadata": {},
     "output_type": "display_data"
    }
   ],
   "source": [
    "#2. People Vaccinated (at least 1 dose)\n",
    "plt.figure(figsize=(10,6))\n",
    "colors = ['orange' if country == 'India' else 'skyblue' for country in vaccinated_people.index]\n",
    "bars = plt.bar(vaccinated_people.index, vaccinated_people.values, color=colors)\n",
    "\n",
    "plt.xlabel('Countries')\n",
    "plt.ylabel('Vaccinated people')\n",
    "plt.title('Total People Vaccinated (at least 1 dose)')\n",
    "\n",
    "for bar in bars:\n",
    "    plt.text(bar.get_x() + bar.get_width() / 2 , bar.get_height(),\n",
    "            f\"{bar.get_height()*1e-9:.2f}B\", ha = 'center', va = 'bottom', fontsize=8)\n",
    " \n",
    "plt.tight_layout()\n",
    "plt.show()"
   ]
  },
  {
   "cell_type": "code",
   "execution_count": 51,
   "id": "11ad4d9f-2d67-4aa9-aaba-837d6baa57ed",
   "metadata": {},
   "outputs": [
    {
     "data": {
      "image/png": "[encoded data removed]",
      "text/plain": [
       "<Figure size 1000x600 with 1 Axes>"
      ]
     },
     "metadata": {},
     "output_type": "display_data"
    }
   ],
   "source": [
    "#3. Fully Vaccinated People\n",
    "plt.figure(figsize=(10,6))\n",
    "color = ['orange' if country == 'India' else 'blue' for country in fully_vaccinated_people.index]\n",
    "bars = plt.bar(fully_vaccinated_people.index, fully_vaccinated_people.values, color = colors)\n",
    "\n",
    "plt.xlabel('Countries')\n",
    "plt.ylabel('Fully vaccinated citizens')\n",
    "plt.title('Fully Vaccinated Citizens Per Country')\n",
    "\n",
    "for bar in bars:\n",
    "    plt.text(bar.get_x() + bar.get_width() / 2, bar.get_height(),\n",
    "            f\"{bar.get_height()*1e-9:.2f}B\", ha='center', va='bottom', fontsize=8)\n",
    "\n",
    "plt.tight_layout()\n",
    "plt.show()\n"
   ]
  },
  {
   "cell_type": "code",
   "execution_count": 104,
   "id": "1b59016c-2828-4a23-bc05-8d2c345cc56a",
   "metadata": {},
   "outputs": [
    {
     "data": {
      "image/png": "[encoded data removed]",
      "text/plain": [
       "<Figure size 1000x600 with 1 Axes>"
      ]
     },
     "metadata": {},
     "output_type": "display_data"
    }
   ],
   "source": [
    "#4. Average Daily Vaccinations\n",
    "plt.figure(figsize=(10,6))\n",
    "colors = ['orange' if country == 'India' else 'skyblue' for country in avg_daily_vaccination.index]\n",
    "bars = plt.barh(avg_daily_vaccination.index, avg_daily_vaccination.values, color = colors)\n",
    "\n",
    "plt.xlabel('Daily Vaccination')\n",
    "plt.ylabel('Countries')\n",
    "plt.title('Average Daily Vaccination')\n",
    "\n",
    "for bar in bars:\n",
    "    plt.text( bar.get_width() + 1000,\n",
    "              bar.get_y() + bar.get_height() / 2  ,\n",
    "              f\"{bar.get_width()*1e-6:.2f}M\", ha='left', va='center', fontsize=8)\n",
    "\n",
    "plt.tight_layout()\n",
    "plt.show()"
   ]
  },
  {
   "cell_type": "code",
   "execution_count": 103,
   "id": "8a3fc5dc-76f1-4af8-a9df-63fa749f7665",
   "metadata": {},
   "outputs": [
    {
     "data": {
      "image/png": "[encoded data removed]",
      "text/plain": [
       "<Figure size 1100x600 with 1 Axes>"
      ]
     },
     "metadata": {},
     "output_type": "display_data"
    }
   ],
   "source": [
    "#5. Highest Single-Day Vaccination Count (Country)\n",
    "plt.figure(figsize=(11,6))\n",
    "colors = ['orange' if country == 'India' else 'skyblue' for country in highest_single_day.index]\n",
    "bars = plt.barh(highest_single_day.index, highest_single_day.values, color = colors)\n",
    "\n",
    "plt.xlabel('Number of Vaccinations in single day')\n",
    "plt.ylabel('Countries')\n",
    "plt.title('Highest Single-Day Vaccination Count (Per Country)')\n",
    "\n",
    "for bar in bars:\n",
    "    plt.text(bar.get_width() + 1000,\n",
    "             bar.get_y() + bar.get_height() / 2,\n",
    "            f\"{bar.get_width()*1e-6:.2f}M\", ha='left', va='center', fontsize=8)\n",
    "\n",
    "plt.tight_layout()\n",
    "plt.show()"
   ]
  },
  {
   "cell_type": "code",
   "execution_count": 99,
   "id": "c54176e7-bf62-49c4-8d62-6a97cb304b87",
   "metadata": {},
   "outputs": [
    {
     "data": {
      "image/png": "[encoded data removed]",
      "text/plain": [
       "<Figure size 1000x600 with 1 Axes>"
      ]
     },
     "metadata": {},
     "output_type": "display_data"
    }
   ],
   "source": [
    "#6. Country with Fastest Vaccination Coverage Increase (50% Coverage)\n",
    "plt.figure(figsize=(10,6))\n",
    "colors = ['pink' if country == 'India' else 'skyblue' for country in df_small_unique['country']]\n",
    "bars = plt.bar(df_small_unique['country'], df_small_unique['days_to_50pct'], color = colors)\n",
    "\n",
    "plt.xlabel('Countries')\n",
    "plt.ylabel('Number Of Days')\n",
    "plt.title('Country with Fastest Vaccination Coverage(50% Coverage)')\n",
    "\n",
    "for bar in bars:\n",
    "    plt.text(bar.get_x() + bar.get_width() / 2, bar.get_height(),\n",
    "            f\"{bar.get_height():.0f} days\", ha='center', va='bottom', fontsize=8)\n",
    "\n",
    "plt.tight_layout()\n",
    "plt.show()"
   ]
  },
  {
   "cell_type": "code",
   "execution_count": null,
   "id": "76080819-61e2-4053-a9aa-1dd381feb79e",
   "metadata": {},
   "outputs": [],
   "source": []
  }
 ],
 "metadata": {
  "kernelspec": {
   "display_name": "Python 3 (ipykernel)",
   "language": "python",
   "name": "python3"
  },
  "language_info": {
   "codemirror_mode": {
    "name": "ipython",
    "version": 3
   },
   "file_extension": ".py",
   "mimetype": "text/x-python",
   "name": "python",
   "nbconvert_exporter": "python",
   "pygments_lexer": "ipython3",
   "version": "3.13.3"
  }
 },
 "nbformat": 4,
 "nbformat_minor": 5
}
